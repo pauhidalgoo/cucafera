{
 "cells": [
  {
   "cell_type": "code",
   "execution_count": 45,
   "metadata": {},
   "outputs": [
    {
     "name": "stderr",
     "output_type": "stream",
     "text": [
      "The attention mask and the pad token id were not set. As a consequence, you may observe unexpected behavior. Please pass your input's `attention_mask` to obtain reliable results.\n",
      "Setting `pad_token_id` to `eos_token_id`:1 for open-end generation.\n"
     ]
    },
    {
     "name": "stdout",
     "output_type": "stream",
     "text": [
      "Aquest matí he anat a la biblioteca amb els meus amics i amigues.\n",
      "Publicat per Cicle Superior a 12:00 Cap comentari:\n",
      "Etiquetes de comentaris: Activitats, Sortides\n",
      "El passat divendres dia 15 d'octubre vam fer una sortida al Parc Natural del Montseny. Vam anar a veure el parc natural del Montseny i ens van explicar moltes coses sobre aquest espai tan important com és l'aigua, les plantes que hi viuen o el seu cicle vital. També vam poder observar algunes espècies animals i vegetals que podem trobar en aquesta zona.\n"
     ]
    }
   ],
   "source": [
    "from transformers import AutoModelForCausalLM, AutoTokenizer, GenerationConfig\n",
    "\n",
    "tokenizer_cucafera = AutoTokenizer.from_pretrained(\"pauhidalgoo/cucafera\")\n",
    "model_cucafera = AutoModelForCausalLM.from_pretrained(\"pauhidalgoo/cucafera\")\n",
    "\n",
    "input_text = \"Aquest matí he anat\"\n",
    "inputs = tokenizer_cucafera(input_text, return_tensors=\"pt\")\n",
    "outputs = model_cucafera.generate(inputs.input_ids, max_length=300, num_return_sequences=1, repetition_penalty=1.2)\n",
    "\n",
    "generated_text = tokenizer_cucafera.decode(outputs[0], skip_special_tokens=True)\n",
    "print(generated_text)"
   ]
  },
  {
   "cell_type": "code",
   "execution_count": null,
   "metadata": {},
   "outputs": [],
   "source": []
  },
  {
   "cell_type": "code",
   "execution_count": 38,
   "metadata": {},
   "outputs": [
    {
     "name": "stdout",
     "output_type": "stream",
     "text": [
      "El millor tractament per un refredat comú és com tenir una màquina màgica que ens ajuda a controlar la temperatura del nostre cos. Imagina't que el teu cos és un gran castell amb moltes habitacions, cadascuna amb les seves pròpies regles i secrets. \n",
      "Primer de tot, cal saber què està passant al castell. Si hi ha molta humitat, pot ser difícil mantenir-lo net i ordenat. Però si tens fred o calor, pots fer servir un termòmetre per veure si està bé. Això\n"
     ]
    }
   ],
   "source": [
    "from transformers import AutoModelForCausalLM, AutoTokenizer, GenerationConfig\n",
    "\n",
    "tokenizer_catgpt = AutoTokenizer.from_pretrained(\"baiges/CatGPT\")\n",
    "model_catgpt = AutoModelForCausalLM.from_pretrained(\"baiges/CatGPT\")\n",
    "\n",
    "input_text = \"El millor tractament per un refredat\"\n",
    "inputs = tokenizer_catgpt(input_text, return_tensors=\"pt\")\n",
    "outputs = model_catgpt.generate(inputs.input_ids, max_length=100, num_return_sequences=1, repetition_penalty=1.2)\n",
    "\n",
    "generated_text = tokenizer_catgpt.decode(outputs[0], skip_special_tokens=True)\n",
    "print(generated_text)"
   ]
  },
  {
   "cell_type": "code",
   "execution_count": 39,
   "metadata": {},
   "outputs": [
    {
     "name": "stderr",
     "output_type": "stream",
     "text": [
      "The attention mask and the pad token id were not set. As a consequence, you may observe unexpected behavior. Please pass your input's `attention_mask` to obtain reliable results.\n",
      "Setting `pad_token_id` to `eos_token_id`:0 for open-end generation.\n"
     ]
    },
    {
     "name": "stdout",
     "output_type": "stream",
     "text": [
      "The best treatment for a cold is to rest and drink plenty of fluids.\n",
      "If you have any questions about your symptoms or if they are severe, contact your doctor immediately.\n"
     ]
    }
   ],
   "source": [
    "from transformers import AutoModelForCausalLM, AutoTokenizer, GenerationConfig\n",
    "\n",
    "tokenizer_smol = AutoTokenizer.from_pretrained(\"HuggingFaceTB/SmolLM-135M\")\n",
    "model_smol = AutoModelForCausalLM.from_pretrained(\"HuggingFaceTB/SmolLM-135M\")\n",
    "\n",
    "input_text = \"The best treatment for a cold\"\n",
    "inputs = tokenizer_smol(input_text, return_tensors=\"pt\")\n",
    "outputs = model_smol.generate(inputs.input_ids, max_length=100, num_return_sequences=1, repetition_penalty=1.2)\n",
    "\n",
    "generated_text = tokenizer_smol.decode(outputs[0], skip_special_tokens=True)\n",
    "print(generated_text)"
   ]
  },
  {
   "cell_type": "code",
   "execution_count": 40,
   "metadata": {},
   "outputs": [],
   "source": [
    "models = {\n",
    "    \"cucafera\": [model_cucafera, tokenizer_cucafera],\n",
    "    \"catgpt\": [model_catgpt, tokenizer_catgpt],\n",
    "    \"smol\": [model_smol, tokenizer_smol]\n",
    "}"
   ]
  },
  {
   "cell_type": "code",
   "execution_count": 41,
   "metadata": {},
   "outputs": [],
   "source": [
    "prompts = [\n",
    "    \"El sol va caure sota l'horitzó, projectant el món al crepuscle. Quan els darrers raigs de llum es van esvair, l'antic bosc va cobrar vida amb un cor de sons. En el fons del bosc, alguna cosa es va remoure, quelcom que havia estat adormit durant segles. Va començar a moure's, la seva presència enviava una ondulació d'energia per l'aire\",\n",
    "    \"La computació quàntica és una tecnologia revolucionària que aprofita els principis de la mecànica quàntica per realitzar càlculs molt més enllà de les capacitats dels ordinadors clàssics. A diferència dels bits clàssics, que poden ser 0 o 1, els bits quàntics o qubits, poden existir en diversos estats simultàniament a causa a un fenomen anomenat superposició. Això permet als ordinadors quàntics\",\n",
    "    \"La naturalesa de la consciència ha desconcertat tant als filòsofs com als científics durant segles. Si bé alguns argumenten que la consciència és simplement una propietat emergent de xarxes neuronals complexes, altres creuen que és quelcom més profund, potser fins i tot fonamental per al teixit de la realitat. En contemplar l'essència. de la consciència, cal tenir en compte\",\n",
    "    \"El mercat era un vibrant tapís de colors i sons. Les parades s'envolten als carrers estrets, cadascuna desbordant de mercaderies de tots els racons del món. L'olor d'espècies exòtiques penjava a l'aire, barrejant-se amb la fragància del pa acabat de fer. Una multitud s'havia reunit al voltant d'un artista de carrer, el qual\",\n",
    "    \"La Maria sempre havia estat la tranquil·la, contenta de quedar-se en un segon pla i deixar que els altres prenguessin el focus. Però hi havia un foc dins d'ella, un desig ardent de demostrar-se a si mateixa. Mentre estava parada a la vora de l'escenari, podia sentir el pes de mil ulls sobre ella. Aquest era el seu moment, el moment que havia estat esperant\",\n",
    "    \"Mentre caminava per la casa buida, els records van tornar a inundar-se. Les rialles, les discussions, els moments tranquils d'entesa, tots semblaven tan llunyans ara, com ecos d'una altra vida. Es va aturar davant del sofà vell i gastat, on s'havien passat tantes nits parlant dels seus somnis. Ara, aquells somnis semblaven\",\n",
    "    \"En una habitació hi ha tres interruptors de llum. Un d'ells controla una bombeta a l'habitació del costat, i els altres dos no fan res. Només pots entrar una vegada a l'habitació del costat per comprovar si la llum està encès o apagat. Com pots determinar quin interruptor controla la bombeta?. La solució consisteix a pensar en l'estat de la bombeta després d'haver-la encès o apagat. Una manera d'afrontar el problema és\",\n",
    "    \"\"\"Per invertir una llista enllaçada a Python, podem definir una funció que itera per la llista i inverteix els enllaços entre els nodes. Aquí teniu una implementació bàsica de la funció: \\n ```python \n",
    "class Node:\n",
    "    def __init__(self, data):\n",
    "        self.data = data\n",
    "        self.seguent = None\n",
    "\n",
    "def inverteix_llista_enllaçada(head):\n",
    "    prev = None\n",
    "    actual = head\n",
    "    while actual:\\n\"\"\"\n",
    "]"
   ]
  },
  {
   "cell_type": "code",
   "execution_count": 42,
   "metadata": {},
   "outputs": [],
   "source": [
    "prompts_english = [\n",
    "    \"The sun dipped below the horizon, casting the world in twilight. As the last rays of light faded, the ancient forest came alive with a chorus of sounds. Deep within the woods, something stirred, something that had been dormant for centuries. It began to move, its presence sending a ripple of energy through the air\",\n",
    "    \"Quantum computing is a revolutionary technology that leverages the principles of quantum mechanics to perform computations far beyond the capabilities of classical computers. Unlike classical bits, which can be either 0 or 1, quantum bits, or qubits, can exist in multiple states simultaneously due to a phenomenon called superposition. This allows quantum computers to\",\n",
    "    \"The nature of consciousness has puzzled philosophers and scientists alike for centuries. While some argue that consciousness is simply an emergent property of complex neural networks, others believe it is something more profound, perhaps even fundamental to the fabric of reality. In contemplating the essence of consciousness, one must consider\",\n",
    "    \"The marketplace was a vibrant tapestry of colors and sounds. Stalls lined the narrow streets, each one overflowing with goods from all corners of the world. The scent of exotic spices hung in the air, mingling with the fragrance of fresh-baked bread. A crowd had gathered around a street performer, whose\",\n",
    "    \"Maria had always been the quiet one, content to stay in the background and let others take the spotlight. But there was a fire within her, a burning desire to prove herself. As she stood at the edge of the stage, she could feel the weight of a thousand eyes on her. This was her moment, the moment she had been waiting for\",\n",
    "    \"As she walked through the empty house, memories flooded back. The laughter, the arguments, the quiet moments of understanding—they all seemed so distant now, like echoes from another life. She paused in front of the old, worn-out couch where they had spent so many nights talking about their dreams. Now, those dreams felt like\",\n",
    "    \"In a room, there are three light switches. One of them controls a light bulb in the next room, and the other two do nothing. You can only enter the next room once to check if the light is on or off. How can you determine which switch controls the light bulb? The solution involves thinking about the state of the bulb after it has been turned on or off. One possible approach is to\",\n",
    "    \"\"\"To reverse a linked list in Python, we can define a function that iterates through the list and reverses the links between the nodes. Here's a basic implementation of the function: \\n ```python \n",
    "class Node:\n",
    "    def __init__(self, data):\n",
    "        self.data = data\n",
    "        self.next = None\n",
    "\n",
    "def reverse_linked_list(head):\n",
    "    prev = None\n",
    "    current = head\n",
    "    while current:\\n\"\"\"\n",
    "]"
   ]
  },
  {
   "cell_type": "code",
   "execution_count": 44,
   "metadata": {},
   "outputs": [
    {
     "name": "stderr",
     "output_type": "stream",
     "text": [
      "The attention mask and the pad token id were not set. As a consequence, you may observe unexpected behavior. Please pass your input's `attention_mask` to obtain reliable results.\n",
      "Setting `pad_token_id` to `eos_token_id`:1 for open-end generation.\n"
     ]
    },
    {
     "name": "stdout",
     "output_type": "stream",
     "text": [
      "> Model cucafera: El sol va caure sota l'horitzó, projectant el món al crepuscle. Quan els darrers raigs de llum es van esvair, l'antic bosc va cobrar vida amb un cor de sons. En el fons del bosc, alguna cosa es va remoure, quelcom que havia estat adormit durant segles. Va començar a moure's, la seva presència enviava una ondulació d'energia per l'aire i la terra.\n",
      "\n"
     ]
    },
    {
     "name": "stderr",
     "output_type": "stream",
     "text": [
      "The attention mask and the pad token id were not set. As a consequence, you may observe unexpected behavior. Please pass your input's `attention_mask` to obtain reliable results.\n",
      "Setting `pad_token_id` to `eos_token_id`:0 for open-end generation.\n"
     ]
    },
    {
     "name": "stdout",
     "output_type": "stream",
     "text": [
      "> Model catgpt: El sol va caure sota l'horitzó, projectant el món al crepuscle. Quan els darrers raigs de llum es van esvair, l'antic bosc va cobrar vida amb un cor de sons. En el fons del bosc, alguna cosa es va remoure, quelcom que havia estat adormit durant segles. Va començar a moure's, la seva presència enviava una ondulació d'energia per l'aire i les fulles dels arbres.\n",
      "Imagineu-vos un riu que flueix cap amunt. El corrent és com un torrent que s'estén per tot arreu, portant aigua fresca i nutrients als arbres. Aquest flux constant crea ones sonores que viatgen pel cel, creant un so únic. \n",
      "Aquest so, anomenat \"síndrome de l'aigua\", era tan potent que semblava que estiguéssim en un altre planeta! Però no us preocupeu, perquè avui dia, gràcies a la tecnologia, podem veure com aquest so viatja per l'univers sense necessitat de viatjar a través de l'atmosfera terrestre.\n",
      "La radiació solar també pot ser perillosa si no es controla correctament. Imagineu-vos un camp de futbol ple de jugadors que corren molt ràpid. Si no controlem bé aquesta força, podríem acabar perdent el partit. La radiació solar ens protegeix de perills com ara llamps o inundacions.\n",
      "Però no només això, la radiació solar també pot afectar altres coses importants:\n",
      " L'aire: Els raigs ultraviolats (UV) poden penetrar profundament\n"
     ]
    },
    {
     "name": "stderr",
     "output_type": "stream",
     "text": [
      "The attention mask and the pad token id were not set. As a consequence, you may observe unexpected behavior. Please pass your input's `attention_mask` to obtain reliable results.\n",
      "Setting `pad_token_id` to `eos_token_id`:1 for open-end generation.\n"
     ]
    },
    {
     "name": "stdout",
     "output_type": "stream",
     "text": [
      "> Model smol: The sun dipped below the horizon, casting the world in twilight. As the last rays of light faded, the ancient forest came alive with a chorus of sounds. Deep within the woods, something stirred, something that had been dormant for centuries. It began to move, its presence sending a ripple of energy through the air around it.\n",
      "It was then that the first whispers were heard: \"We are here.\" And so, under the watchful gaze of the stars above, the forest slowly transformed into a new entity - a living organism capable of adapting and thriving amidst change.\n",
      "> Model cucafera: La computació quàntica és una tecnologia revolucionària que aprofita els principis de la mecànica quàntica per realitzar càlculs molt més enllà de les capacitats dels ordinadors clàssics. A diferència dels bits clàssics, que poden ser 0 o 1, els bits quàntics o qubits, poden existir en diversos estats simultàniament a causa a un fenomen anomenat superposició. Això permet als ordinadors quàntics obtenir informació sobre el seu entorn i generar dades amb una precisió sense precedents.\n",
      "Un exemple d'un camp de recerca recent és l'estudi del Big Bang. El desenvolupament de la teoria de la relativitat general d'Einstein va revolucionar la nostra comprensió del moviment dels planetes al voltant del Sol. La seva capacitat per descriure el moviment dels planetes al voltant del Sol ha permès estudiar la interacció entre els objectes celestes i la matèria fosca. Aquest descobriment va tenir un impacte profund en molts camps de la ciència i la tecnologia, com ara:\n",
      " Física nuclear: L'ús de la radiació electromagnètica per crear sistemes electrònics que emeten llum. Aquesta tècnica va permetre als científics estudiar la dinàmica de fluids i la formació de molècules complexes.\n",
      " Química computacional: Els avenços en la química computacional van permetre desenvolupar nous materials amb propietats úniques. Aquests materials es van utilitzar per dissenyar màquines que podien produir productes químics complexos.\n",
      " Enginyeria civil: Les tecnologies de la física matemàtica han obert noves possibilitats en enginyeria civil, permetent-los operar amb sistemes físics i químics més precisos.\n",
      "En resum, la computació quàntica té un paper crucial en diverses àrees de la ciència i la tecnologia,\n"
     ]
    },
    {
     "name": "stderr",
     "output_type": "stream",
     "text": [
      "The attention mask and the pad token id were not set. As a consequence, you may observe unexpected behavior. Please pass your input's `attention_mask` to obtain reliable results.\n",
      "Setting `pad_token_id` to `eos_token_id`:0 for open-end generation.\n"
     ]
    },
    {
     "name": "stdout",
     "output_type": "stream",
     "text": [
      "> Model catgpt: La computació quàntica és una tecnologia revolucionària que aprofita els principis de la mecànica quàntica per realitzar càlculs molt més enllà de les capacitats dels ordinadors clàssics. A diferència dels bits clàssics, que poden ser 0 o 1, els bits quàntics o qubits, poden existir en diversos estats simultàniament a causa a un fenomen anomenat superposició. Això permet als ordinadors quàntics resoldre problemes complexos amb molta precisió i eficiència.\n",
      "Un dels exemples més coneguts d'aquesta aplicació es troba en el camp de l'òptica quàntica. Els fotons són partícules subatòmiques carregades elèctricament que interactuen feblement amb la matèria. Quan un fotó passa per sobre d'un àtom, aquest s'aproxima al seu estat fonamental, emetent llum coherent. Aquest procés genera un patró únic de llum coherent, conegut com a \"llum del buit\". La llum del buit pot estar formada per diferents colors, des de tons blaus fins a violetes, depenent de la seva freqüència i intensitat. Aquesta informació es pot utilitzar per crear imatges tridimensionals de l'àtom, permetent-nos estudiar objectes celestes amb detall.\n",
      "A més de la llum visible, els fotons també poden interactuar amb altres àtoms mitjançant camps electromagnètics. Per exemple, els electrons poden emetre radiació electromagnètica, que pot ser detectada pels sensors electrònics. Aquests camps electromagnètics permeten als ordinadors quàntics analitzar dades espectrals i identificar patrons ocults en les seves estructures.\n",
      "Els algorit\n"
     ]
    },
    {
     "name": "stderr",
     "output_type": "stream",
     "text": [
      "The attention mask and the pad token id were not set. As a consequence, you may observe unexpected behavior. Please pass your input's `attention_mask` to obtain reliable results.\n",
      "Setting `pad_token_id` to `eos_token_id`:1 for open-end generation.\n"
     ]
    },
    {
     "name": "stdout",
     "output_type": "stream",
     "text": [
      "> Model smol: Quantum computing is a revolutionary technology that leverages the principles of quantum mechanics to perform computations far beyond the capabilities of classical computers. Unlike classical bits, which can be either 0 or 1, quantum bits, or qubits, can exist in multiple states simultaneously due to a phenomenon called superposition. This allows quantum computers to process vast amounts of data more efficiently than traditional machines while maintaining their computational power and accuracy levels at comparable speeds as conventional ones.\n",
      "The development of quantum computing has been driven by several factors including advancements in hardware design (e.g., superconducting circuits), theoretical predictions about how qubit systems should behave under certain conditions, and ongoing research efforts aimed at improving existing algorithms for solving complex problems using these new technologies. Additionally, there are growing concerns regarding potential security vulnerabilities associated with large-scale distributed networks where sensitive information could potentially fall into wrong hands if not properly secured against tampering attempts made during transmission between nodes within such environments . As we move forward towards realizing practical applications leveraging advances from both academia & industry alike , it’s clear why understanding this fascinating field will remain crucial moving ahead!\n",
      "> Model cucafera: La naturalesa de la consciència ha desconcertat tant als filòsofs com als científics durant segles. Si bé alguns argumenten que la consciència és simplement una propietat emergent de xarxes neuronals complexes, altres creuen que és quelcom més profund, potser fins i tot fonamental per al teixit de la realitat. En contemplar l'essència. de la consciència, cal tenir en compte el seu paper crucial en la nostra vida quotidiana.\n",
      "En un món on les màquines no només són eines poderoses, sinó també sistemes complexos amb propietats úniques, els humans poden ser tan poderosos com nosaltres mateixos. La consciència pot ser vista com a part d'un sistema complex que ens permet veure-hi des del nostre punt de vista. Per exemple, si veiem un cotxe que està ple de rodes, podem pensar que aquest vehicle té una forma especial anomenada \"motor\" o \"motor\". Això significa que la consciència es basa en la capacitat dels nostres sentits per percebre's a través de la seva pròpia experiència sensorial. \n",
      "Un altre aspecte important de la consciència és que la ment humana és un camp vast i fascinant. Els psicòlegs han demostrat que la consciència és un procés continu que requereix temps i esforç. No obstant això, la consciència no sempre és un concepte abstracte. Alguns psicòlegs han argumentat que la consciència no és un estat estàtic, sinó que està influenciada per factors externs. Aquests canvis poden afectar la nostra percepció de la realitat i, per tant, la nostra comprensió de la consciència.\n",
      "Per entendre millor aquesta teoria, imaginem un nen que observa un objecte estrany.\n"
     ]
    },
    {
     "name": "stderr",
     "output_type": "stream",
     "text": [
      "The attention mask and the pad token id were not set. As a consequence, you may observe unexpected behavior. Please pass your input's `attention_mask` to obtain reliable results.\n",
      "Setting `pad_token_id` to `eos_token_id`:0 for open-end generation.\n"
     ]
    },
    {
     "name": "stdout",
     "output_type": "stream",
     "text": [
      "> Model catgpt: La naturalesa de la consciència ha desconcertat tant als filòsofs com als científics durant segles. Si bé alguns argumenten que la consciència és simplement una propietat emergent de xarxes neuronals complexes, altres creuen que és quelcom més profund, potser fins i tot fonamental per al teixit de la realitat. En contemplar l'essència. de la consciència, cal tenir en compte que no existeix un únic model universal de consciència, sinó que cada individu té el seu propi univers intern i extern.\n",
      "Un dels arguments principals a favor del relativisme moral sosté que la consciència està íntimament lligada a la nostra experiència subjectiva del món. La consciència ens permet percebre els nostres pensaments, sentiments i accions sense necessitat d'un marc mental predefinit. Aquesta visió reduccionista pot conduir a una percepció distorsionada de la realitat, on les experiències individuals són incompletes o inexactes. Per exemple, si veiem algú caminant pel carrer, podem sentir-nos frustrats i desanimats, ja que no tenim cap informació sobre ell. Aquest sentiment de buit interior pot ser interpretat com a falta de sentit o com a manca de significat. \n",
      "No obstant això, el relativisme moral també ofereix una perspectiva alternativa. El relativisme moral argumenta que la consciència no és només una propietat emergent de xarxes neuronals, sinó que es troba inextricablement lligada a la nostra experiència subjectiva del món. Això significa que la consciència no és un concepte abstracte, sinó que està subjecta a la nostra interpretació i a la nostra capacitat de veure\n"
     ]
    },
    {
     "name": "stderr",
     "output_type": "stream",
     "text": [
      "The attention mask and the pad token id were not set. As a consequence, you may observe unexpected behavior. Please pass your input's `attention_mask` to obtain reliable results.\n",
      "Setting `pad_token_id` to `eos_token_id`:1 for open-end generation.\n"
     ]
    },
    {
     "name": "stdout",
     "output_type": "stream",
     "text": [
      "> Model smol: The nature of consciousness has puzzled philosophers and scientists alike for centuries. While some argue that consciousness is simply an emergent property of complex neural networks, others believe it is something more profound, perhaps even fundamental to the fabric of reality. In contemplating the essence of consciousness, one must consider not only its physical properties but also their metaphysical implications – what lies beyond our everyday experiences?\n",
      "To explore this question further, let us delve into the concept of consciousness itself: What exactly does it mean when we say “consciousness”? At first glance, you might wonder if there exists a single definition or description applicable across various disciplines such as philosophy, neuroscience, psychology, etc., which could encompass all aspects involved in understanding human cognition (e.g., perception). However, given how deeply intertwined these fields are within modern society’s cultural landscape today; they become increasingly important subjects worthy exploration through rigorous scientific inquiry while fostering critical thinking skills among learners at every level!\n",
      "In order to better understand why studying consciousness matters so much nowadays…we need look no farther than recent advancements made possible by cutting-edge technologies like artificial intelligence algorithms capable deep learning models trained on vast amounts data sets collected from diverse sources worldwide including social media platforms where users engage daily with each other online communities creating unique patterns reflective upon individual thoughts behaviors actions decisions making choices leading ultimately shaping personal identities identity beliefs values morals ethics morality judgments judgements opinions views perspectives viewpoints worldviews cultures traditions customs norms practices rituals ceremonies festivals celebrations holidays observances rites dances music poetry art painting sculpture architecture theater dance\n",
      "> Model cucafera: El mercat era un vibrant tapís de colors i sons. Les parades s'envolten als carrers estrets, cadascuna desbordant de mercaderies de tots els racons del món. L'olor d'espècies exòtiques penjava a l'aire, barrejant-se amb la fragància del pa acabat de fer. Una multitud s'havia reunit al voltant d'un artista de carrer, el qual havia estat testimoni dels seus viatges per tot el planeta.\n",
      "Un dia, mentre passejava pel barri antic, va veure una dona jove asseguda en un bancal davant seu. La dona estava vestida amb roba vella i tenia un vestit blau cel que semblava haver estat utilitzat com a símbol de poder i estatus social. El seu rostre es va convertir en un punt de referència per a les seves accions. \n",
      "La dona va quedar fascinada per la seva bellesa natural i la seva capacitat de crear personatges complexos i memorables. Va ser ella qui va descobrir el secret de la vida quotidiana, un misteri que només ell podia desxifrar. I així, la dona va començar a explorar el món, a desafiar les normes socials i a buscar noves formes de viure.\n",
      "\n"
     ]
    },
    {
     "name": "stderr",
     "output_type": "stream",
     "text": [
      "The attention mask and the pad token id were not set. As a consequence, you may observe unexpected behavior. Please pass your input's `attention_mask` to obtain reliable results.\n",
      "Setting `pad_token_id` to `eos_token_id`:0 for open-end generation.\n"
     ]
    },
    {
     "name": "stdout",
     "output_type": "stream",
     "text": [
      "> Model catgpt: El mercat era un vibrant tapís de colors i sons. Les parades s'envolten als carrers estrets, cadascuna desbordant de mercaderies de tots els racons del món. L'olor d'espècies exòtiques penjava a l'aire, barrejant-se amb la fragància del pa acabat de fer. Una multitud s'havia reunit al voltant d'un artista de carrer, el qual havia preparat una obra mestra que representava la bellesa efímera de les espècies.\n",
      "Imagineu-vos un camp ple de flors de colors vibrants: vermelles, blaves, grogues... Cada flor tenia un color diferent, com si cada flor hagués estat esculpida en un llençol blanc. El vermell, per exemple, era el més comú, mentre que el blau era el més habitual. \n",
      "Però no només hi havia roses! A les botigues de fruites i verdures es venien molts productes frescos, com ara fruita fresca, verdura, cereals i fruits secs. Els pagesos cultivaven blat, ordi, gira-sol i altres cultius importants. I els artesans elaboraven joies precioses, armes i ornaments preciosos.\n",
      "A les ciutats, els mercats bulliciosos eren plens de gent passejant pels seus carrerons empedrats. La gent comprava cistells de vímet, ceràmica, teixits i objectes quotidians. Era un lloc on la vida quotidiana estava plena de detalls i emocions.\n",
      "Un dels moments més memorables del mercat va ser quan els comerciants van descobrir que els aliments podien ser transportats des de\n"
     ]
    },
    {
     "name": "stderr",
     "output_type": "stream",
     "text": [
      "The attention mask and the pad token id were not set. As a consequence, you may observe unexpected behavior. Please pass your input's `attention_mask` to obtain reliable results.\n",
      "Setting `pad_token_id` to `eos_token_id`:1 for open-end generation.\n"
     ]
    },
    {
     "name": "stdout",
     "output_type": "stream",
     "text": [
      "> Model smol: The marketplace was a vibrant tapestry of colors and sounds. Stalls lined the narrow streets, each one overflowing with goods from all corners of the world. The scent of exotic spices hung in the air, mingling with the fragrance of fresh-baked bread. A crowd had gathered around a street performer, whose voice echoed through the night as he spun tales about faraway lands filled with magic and wonderment.\n",
      "\n",
      "As the evening wore on, the atmosphere grew more intense than ever before - people were dancing to the infectious rhythms while others shared stories passed down generations by word of mouth or whispered secrets within their homes during quiet moments alone at home. It wasn't long until they realized that this place held so much power; it could bring together strangers who might never have crossed paths otherwise! And yet despite its undeniable charm, there remained something undeniably captivating about this particular corner of the city – perhaps because no matter where you went inside, every single person felt connected somehow...\n",
      "> Model cucafera: La Maria sempre havia estat la tranquil·la, contenta de quedar-se en un segon pla i deixar que els altres prenguessin el focus. Però hi havia un foc dins d'ella, un desig ardent de demostrar-se a si mateixa. Mentre estava parada a la vora de l'escenari, podia sentir el pes de mil ulls sobre ella. Aquest era el seu moment, el moment que havia estat esperant per ser observada amb una nova perspectiva.\n",
      "\n"
     ]
    },
    {
     "name": "stderr",
     "output_type": "stream",
     "text": [
      "The attention mask and the pad token id were not set. As a consequence, you may observe unexpected behavior. Please pass your input's `attention_mask` to obtain reliable results.\n",
      "Setting `pad_token_id` to `eos_token_id`:0 for open-end generation.\n"
     ]
    },
    {
     "name": "stdout",
     "output_type": "stream",
     "text": [
      "> Model catgpt: La Maria sempre havia estat la tranquil·la, contenta de quedar-se en un segon pla i deixar que els altres prenguessin el focus. Però hi havia un foc dins d'ella, un desig ardent de demostrar-se a si mateixa. Mentre estava parada a la vora de l'escenari, podia sentir el pes de mil ulls sobre ella. Aquest era el seu moment, el moment que havia estat esperant.\n",
      "Imagineu-vos una petita formiga caminant per un bosc frondós. La formiga s'acosta al sol amb molta energia, però no sap com fer-ho. De sobte, veu un ocell volant cap amunt. El vent bufa fort, però la formiga està molt preocupada. Què pot passar? Potser la formiga es posa nerviosa o potser simplement se sent incòmoda. \n",
      "Aquesta situació va ser un dels moments més importants de la vida de la Maria. Ella sabia que havia de mostrar-li tot el seu amor i afecte. Va començar a pensar: \"No ho sé, potser sí que puc ajudar-te\". I així va néixer la seva passió per la música. \n",
      "A partir d'aquell dia, la Maria va aprendre a escoltar amb atenció les cançons que escoltava. Li agradava cantar amb alegria, sense por a ser jutjada. Era com si estigués escoltant un conte mentre mirava un quadre. \n",
      "Un cop va entendre que la música era important, va decidir dedicar temps a practicar la meditació. Va observar els\n"
     ]
    },
    {
     "name": "stderr",
     "output_type": "stream",
     "text": [
      "The attention mask and the pad token id were not set. As a consequence, you may observe unexpected behavior. Please pass your input's `attention_mask` to obtain reliable results.\n",
      "Setting `pad_token_id` to `eos_token_id`:1 for open-end generation.\n"
     ]
    },
    {
     "name": "stdout",
     "output_type": "stream",
     "text": [
      "> Model smol: Maria had always been the quiet one, content to stay in the background and let others take the spotlight. But there was a fire within her, a burning desire to prove herself. As she stood at the edge of the stage, she could feel the weight of a thousand eyes on her. This was her moment, the moment she had been waiting for - an opportunity that would change everything about her life forever.\n",
      "\n",
      "As the curtain rose, she stepped onto the stage with newfound determination etched into every line of her face. She knew it wouldn't be easy; not only did she have to overcome some initial doubts but also confront those who doubted her abilities as a woman performing such delicate tasks under pressure from male colleagues. Yet despite these challenges, she pressed forward, fueled by passion rather than fear or doubt. And slowly yet surely, something remarkable happened: people began taking notice of her talent beyond what anyone thought possible before. They saw how much they missed out when their careers were dominated solely by men's expectations while women struggled daily against societal norms limiting them both physically and mentally.\n",
      "\n",
      "One day during rehearsals, Sarah found herself standing alone near the end of the production due to fatigue caused partly because of exhaustion brought upon by long hours spent working alongside male actors trying desperately to maintain control over their performances without compromising safety standards set forth earlier stages ahead (the 'pre-production'). Her heart sank seeing this scene unfold right then...and now! It felt like fate calling her back home again\n",
      "> Model cucafera: Mentre caminava per la casa buida, els records van tornar a inundar-se. Les rialles, les discussions, els moments tranquils d'entesa, tots semblaven tan llunyans ara, com ecos d'una altra vida. Es va aturar davant del sofà vell i gastat, on s'havien passat tantes nits parlant dels seus somnis. Ara, aquells somnis semblaven més que un simple somni: una realitat plena de misteri i esperança.\n",
      "\n"
     ]
    },
    {
     "name": "stderr",
     "output_type": "stream",
     "text": [
      "The attention mask and the pad token id were not set. As a consequence, you may observe unexpected behavior. Please pass your input's `attention_mask` to obtain reliable results.\n",
      "Setting `pad_token_id` to `eos_token_id`:0 for open-end generation.\n"
     ]
    },
    {
     "name": "stdout",
     "output_type": "stream",
     "text": [
      "> Model catgpt: Mentre caminava per la casa buida, els records van tornar a inundar-se. Les rialles, les discussions, els moments tranquils d'entesa, tots semblaven tan llunyans ara, com ecos d'una altra vida. Es va aturar davant del sofà vell i gastat, on s'havien passat tantes nits parlant dels seus somnis. Ara, aquells somnis semblaven tan vius que no es podien veure en el món real.\n",
      "Imaginem un dia assolellat al camp. La llum del sol brilla amb força, il·luminant tot el paisatge. Els ocells canten melodies alegres mentre contemplen el cel blau. El vent xiuxiueja entre les fulles seques de blat, creant una sensació de pau i tranquil·litat. \n",
      "Els nostres ulls, plens de curiositat, ens miren amb atenció. Ens expliquen històries sobre animals salvatges, paisatges sorprenents o fins i tot personatges històrics. Cada detall, cada paraula, cada gest, ens aporta informació valuosa sobre la nostra pròpia existència. \n",
      "Però, què passa quan aquests records tornen a ser vius? Què podem fer nosaltres mateixos? Com podem convertir-los en realitat? Aquestes preguntes són el punt de partida per a explorar aquest viatge fascinant.\n",
      "Un dels primers passos és recordar els teus propis somnis. Potser era un somni que t'agradava molt, però potser era massa tard. En comptes de deixar-te portar pels pensaments negatius, pots intentar reviure aquell moment. Pots imaginar-te un arbre alt i majestuós, envoltat de flors de colors\n"
     ]
    },
    {
     "name": "stderr",
     "output_type": "stream",
     "text": [
      "The attention mask and the pad token id were not set. As a consequence, you may observe unexpected behavior. Please pass your input's `attention_mask` to obtain reliable results.\n",
      "Setting `pad_token_id` to `eos_token_id`:1 for open-end generation.\n"
     ]
    },
    {
     "name": "stdout",
     "output_type": "stream",
     "text": [
      "> Model smol: As she walked through the empty house, memories flooded back. The laughter, the arguments, the quiet moments of understanding—they all seemed so distant now, like echoes from another life. She paused in front of the old, worn-out couch where they had spent so many nights talking about their dreams. Now, those dreams felt like fragments scattered across her mind; each one more vivid than the last until it became impossible to separate them entirely anymore...\n",
      "\n",
      "Her thoughts drifted towards the recent news that her father had passed away suddenly and unexpectedly due to complications arising during surgery on his leg after a severe injury sustained while serving as a soldier overseas years ago. As if sensing her inner turmoil within herself, he continued speaking softly yet firmly into the microphone: \"You know what I want you to do?\" He looked up at her with genuine concern etched onto every line beneath his weathered gray hair before continuing gently but resolutely:\"I am here for you.\" His voice softened slightly when he said this, almost whispering something deep inside him despite being physically present there too – 'for me'. It wasn't just any ordinary conversation between two strangers separated by time zones or geographical boundaries - instead, it was an intimate exchange filled with empathy, compassion, patience, forgiveness, love, loss, hope, despair...\"(1)\n",
      "\n",
      "A chill ran down her spine even though no words were spoken aloud amidst the chaos surrounding her husband's demise. For days afterward, she found solace knowing that someone cared enough not\n",
      "> Model cucafera: En una habitació hi ha tres interruptors de llum. Un d'ells controla una bombeta a l'habitació del costat, i els altres dos no fan res. Només pots entrar una vegada a l'habitació del costat per comprovar si la llum està encès o apagat. Com pots determinar quin interruptor controla la bombeta?. La solució consisteix a pensar en l'estat de la bombeta després d'haver-la encès o apagat. Una manera d'afrontar el problema és utilitzar un sistema de control que permeti controlar les llums quan s'encenen.\n",
      "Un altre exemple seria fer servir un ventilador per apagar la llum. Si utilitzes un ventilador per apagar la llum, has de saber com funciona aquest sistema de control. El ventilador pot ser molt útil per apagar la llum, però també pot ajudar a reduir la quantitat de llum que entra al teu dormitori. Per solucionar això, podem utilitzar un sistema de control que ens permet veure on estem treballant amb la llum. Aquest sistema de control ens ajuda a entendre millor el funcionament dels aparells electrònics i a detectar possibles problemes.\n",
      "La importància de tenir cura de la il·luminació\n",
      "És important recordar que la il·luminació és un procés natural que requereix atenció i consciència. No es tracta només de mirar el nostre escriptori, sinó de buscar informació sobre la nostra vida quotidiana. A través de l'observació directa, podem aprendre coses noves sobre nosaltres mateixos i sobre nosaltres mateixos. \n",
      "Per exemple, imagina't que vols comprar un nou joc de taula. Abans de començar\n"
     ]
    },
    {
     "name": "stderr",
     "output_type": "stream",
     "text": [
      "The attention mask and the pad token id were not set. As a consequence, you may observe unexpected behavior. Please pass your input's `attention_mask` to obtain reliable results.\n",
      "Setting `pad_token_id` to `eos_token_id`:0 for open-end generation.\n"
     ]
    },
    {
     "name": "stdout",
     "output_type": "stream",
     "text": [
      "> Model catgpt: En una habitació hi ha tres interruptors de llum. Un d'ells controla una bombeta a l'habitació del costat, i els altres dos no fan res. Només pots entrar una vegada a l'habitació del costat per comprovar si la llum està encès o apagat. Com pots determinar quin interruptor controla la bombeta?. La solució consisteix a pensar en l'estat de la bombeta després d'haver-la encès o apagat. Una manera d'afrontar el problema és observar com funciona cada interruptor.\n",
      "Per exemple, imagina que tens un televisor amb un mirall. Si observes que la llum s'encén quan prems el botó de \"apagar\" al principi, notaràs que la bombeta està encesa. Però si observes que la llum s'encén abans que es tanqui completament, notaràs que la bombeta està apagada. Això és perquè la bombeta té un mecanisme que permet controlar la quantitat de llum que entra a l'habitació. \n",
      "Un altre truc útil és mirar cap amunt. Si veus que la bombeta està encesa, notaràs que la bombeta està apagada. Però si observes que la bombeta està apagada, notaràs que la bombeta està apagada. Això és perquè la bombeta té un mecanisme que permet controlar la quantitat de llum que entra a l'habitació.\n",
      "A més dels interruptors de llum, també podem utilitzar llums LED. Les làmpades LED són\n"
     ]
    },
    {
     "name": "stderr",
     "output_type": "stream",
     "text": [
      "The attention mask and the pad token id were not set. As a consequence, you may observe unexpected behavior. Please pass your input's `attention_mask` to obtain reliable results.\n",
      "Setting `pad_token_id` to `eos_token_id`:1 for open-end generation.\n"
     ]
    },
    {
     "name": "stdout",
     "output_type": "stream",
     "text": [
      "> Model smol: In a room, there are three light switches. One of them controls a light bulb in the next room, and the other two do nothing. You can only enter the next room once to check if the light is on or off. How can you determine which switch controls the light bulb? The solution involves thinking about the state of the bulb after it has been turned on or off. One possible approach is to count how many times each button was pressed before turning on/off again (this will help us understand what happens when we turn both buttons).\n",
      "The answer depends upon whether either one of these states exists: If neither state occurs then no change takes place; otherwise an error message appears indicating that something went wrong during operation such as incorrect settings for some component(s) within your system etc.; In this case all changes must be made manually by someone else who knows exactly where they need done so let's say our example would look like below :\n",
      "10 25 37 49 68 76 85 90 100 110 120 130 140 150 160 170 180 190 200 210 220 230 240 250 260 270 280 290 300 3\n",
      "> Model cucafera: Per invertir una llista enllaçada a Python, podem definir una funció que itera per la llista i inverteix els enllaços entre els nodes. Aquí teniu una implementació bàsica de la funció: \n",
      " ```python \n",
      "class Node:\n",
      "    def __init__(self, data):\n",
      "        self.data = data\n",
      "        self.seguent = None\n",
      "\n",
      "def inverteix_llista_enllaçada(head):\n",
      "    prev = None\n",
      "    actual = head\n",
      "    while actual:\n",
      "        # Obtenim el valor del node actual\n",
      "        current = head\n",
      "            current = current.next\n",
      "            if current is not None and current.next is not None:\n",
      "                return current\n",
      "            else:\n",
      "                # Si el node actual és més gran que l'últim node inicial, incrementem el valor de la llista enllaçada\n",
      "                current = current.next\n",
      "                    else:\n",
      "                # Si el node actual és més petit que l'últim node inicial, augmentem el valor de la llista enllaçada\n",
      "                current = current.next\n",
      "                else:\n",
      "                            # Si el node actual és més gran que l'últim node inicial, incrementem el valor de la llista enllaçada\n",
      "                            current = current.next\n",
      "                else:\n",
      "                            # Si el node actual és més gran que l'últim node inicial, incrementem el valor de la llista enllaçada\n",
      "                            else:\n"
     ]
    },
    {
     "name": "stderr",
     "output_type": "stream",
     "text": [
      "The attention mask and the pad token id were not set. As a consequence, you may observe unexpected behavior. Please pass your input's `attention_mask` to obtain reliable results.\n",
      "Setting `pad_token_id` to `eos_token_id`:0 for open-end generation.\n"
     ]
    },
    {
     "name": "stdout",
     "output_type": "stream",
     "text": [
      "> Model catgpt: Per invertir una llista enllaçada a Python, podem definir una funció que itera per la llista i inverteix els enllaços entre els nodes. Aquí teniu una implementació bàsica de la funció: \n",
      " ```python \n",
      "class Node:\n",
      "    def __init__(self, data):\n",
      "        self.data = data\n",
      "        self.seguent = None\n",
      "\n",
      "def inverteix_llista_enllaçada(head):\n",
      "    prev = None\n",
      "    actual = head\n",
      "    while actual:\n",
      "            return none\n",
      "            return none\n",
      "            return none\n",
      "```\n",
      "Aquesta funció és molt útil quan volem trobar un element en una llista enllaçada. Per exemple, si tenim una llista enllaçada amb el nom \"Barcelona\", podem utilitzar la funció `sum_{i=1}^{n}` per calcular l'element \"Barcelona\" com a entrada.\n",
      "Exemple:\n",
      "Considerem la següent llista enllaçada:\n",
      "```python\n",
      "import numpy as np {a, b, c}\n",
      "public class {atribut_usuari} {atributs_usuari} {atribut_usuari}\n",
      "    for i in range(0) {atribut_usuari}\n",
      "    public void numpy\n",
      "> Model smol: To reverse a linked list in Python, we can define a function that iterates through the list and reverses the links between the nodes. Here's a basic implementation of the function: \n",
      " ```python \n",
      "class Node:\n",
      "    def __init__(self, data):\n",
      "        self.data = data\n",
      "        self.next = None\n",
      "\n",
      "def reverse_linked_list(head):\n",
      "    prev = None\n",
      "    current = head\n",
      "    while current:\n",
      "\tprev = current\n",
      "\tcurrent = current.next\n",
      "\n",
      "       # Reversing the Linked List\n",
      "\t   # If there is no next node to be added then it will return null\n",
      "  \t    if not prev or prev == None:\n",
      "      \t        return null\n",
      "\n",
      "  \t     # Else add new node at end of the linked list\n",
      "    \t      else:\n",
      "        \t    newNode = Node(data)\n",
      "         \t\t    newNode.next = current.next\n",
      "          \t    current.next = newNode\n",
      " \t    current = current.next\n",
      "```\n",
      "In this code snippet, we first initialize two pointers `prev` and `current`. The `prev` pointer keeps track of where the previous node was before adding any new nodes into the list. We also create an empty list called `newList`, which will store all the newly inserted nodes until they are removed from the list by calling the `reverse_linked_list()` method with our original list as its argument. Finally, we update the value of `current` using the `\n"
     ]
    }
   ],
   "source": [
    "for i in range(len(prompts)):\n",
    "    for name, objects in models.items():\n",
    "        if name == \"smol\":\n",
    "            instruccio = prompts_english[i]\n",
    "        else:\n",
    "            instruccio = prompts[i]\n",
    "        model, tokenizer = objects\n",
    "        inputs = tokenizer(instruccio, return_tensors=\"pt\")\n",
    "        outputs = model.generate(inputs.input_ids, max_length=300, num_return_sequences=1, repetition_penalty=1.2)\n",
    "\n",
    "        generated_text = tokenizer.decode(outputs[0], skip_special_tokens=True)\n",
    "        print(f\"> Model {name}: {generated_text}\")\n",
    "        "
   ]
  }
 ],
 "metadata": {
  "kernelspec": {
   "display_name": "Python 3",
   "language": "python",
   "name": "python3"
  },
  "language_info": {
   "codemirror_mode": {
    "name": "ipython",
    "version": 3
   },
   "file_extension": ".py",
   "mimetype": "text/x-python",
   "name": "python",
   "nbconvert_exporter": "python",
   "pygments_lexer": "ipython3",
   "version": "3.11.9"
  }
 },
 "nbformat": 4,
 "nbformat_minor": 2
}
